{
  "cells": [
    {
      "cell_type": "markdown",
      "metadata": {
        "id": "view-in-github",
        "colab_type": "text"
      },
      "source": [
        "<a href=\"https://colab.research.google.com/github/VasanthPrakasam/Case-Study-3_-Finance-Fraud-Detection-/blob/main/Finance_(Fraud_Detection).ipynb\" target=\"_parent\"><img src=\"https://colab.research.google.com/assets/colab-badge.svg\" alt=\"Open In Colab\"/></a>"
      ]
    },
    {
      "cell_type": "code",
      "execution_count": null,
      "metadata": {
        "id": "vGzrFPMB1bgw"
      },
      "outputs": [],
      "source": [
        "import pandas as pd\n",
        "import matplotlib.pyplot as plt\n",
        "import seaborn as sns\n",
        "from sklearn.model_selection import train_test_split\n",
        "from sklearn.linear_model import LogisticRegression\n",
        "from sklearn.ensemble import RandomForestClassifier\n",
        "from sklearn import metrics\n",
        "from sklearn.preprocessing import OneHotEncoder\n",
        "import warnings\n",
        "warnings.filterwarnings('ignore')"
      ]
    },
    {
      "cell_type": "code",
      "execution_count": null,
      "metadata": {
        "id": "hqUPtEWA1cL8"
      },
      "outputs": [],
      "source": [
        "data = pd.read_csv('Online Payment Fraud Detection.csv', encoding='unicode-escape')\n"
      ]
    },
    {
      "cell_type": "code",
      "execution_count": null,
      "metadata": {
        "colab": {
          "base_uri": "https://localhost:8080/"
        },
        "id": "U9Leb6MQ1dze",
        "outputId": "0f66b81f-8e19-4447-befe-0da11010b59a"
      },
      "outputs": [
        {
          "name": "stdout",
          "output_type": "stream",
          "text": [
            "<class 'pandas.core.frame.DataFrame'>\n",
            "RangeIndex: 124969 entries, 0 to 124968\n",
            "Data columns (total 10 columns):\n",
            " #   Column          Non-Null Count   Dtype  \n",
            "---  ------          --------------   -----  \n",
            " 0   step            124969 non-null  int64  \n",
            " 1   type            124969 non-null  object \n",
            " 2   amount          124969 non-null  float64\n",
            " 3   nameOrig        124968 non-null  object \n",
            " 4   oldbalanceOrg   124968 non-null  float64\n",
            " 5   newbalanceOrig  124968 non-null  float64\n",
            " 6   nameDest        124968 non-null  object \n",
            " 7   oldbalanceDest  124968 non-null  float64\n",
            " 8   newbalanceDest  124968 non-null  float64\n",
            " 9   isFraud         124968 non-null  float64\n",
            "dtypes: float64(6), int64(1), object(3)\n",
            "memory usage: 9.5+ MB\n",
            "None\n",
            "step              0\n",
            "type              0\n",
            "amount            0\n",
            "nameOrig          1\n",
            "oldbalanceOrg     1\n",
            "newbalanceOrig    1\n",
            "nameDest          1\n",
            "oldbalanceDest    1\n",
            "newbalanceDest    1\n",
            "isFraud           1\n",
            "dtype: int64\n"
          ]
        }
      ],
      "source": [
        "print(data.info())\n",
        "print(data.isna().sum())\n"
      ]
    },
    {
      "cell_type": "code",
      "execution_count": null,
      "metadata": {
        "colab": {
          "base_uri": "https://localhost:8080/"
        },
        "id": "_Q_QzAEx1e5n",
        "outputId": "eb595e8d-6cd2-4b64-dac0-388205579361"
      },
      "outputs": [
        {
          "name": "stdout",
          "output_type": "stream",
          "text": [
            "                step        amount  oldbalanceOrg  newbalanceOrig  \\\n",
            "count  124969.000000  1.249690e+05   1.249680e+05    1.249680e+05   \n",
            "mean        8.929463  1.774371e+05   9.064400e+05    9.228023e+05   \n",
            "std         1.857972  3.438788e+05   2.850433e+06    2.887545e+06   \n",
            "min         1.000000  3.200000e-01   0.000000e+00    0.000000e+00   \n",
            "25%         8.000000  1.062086e+04   0.000000e+00    0.000000e+00   \n",
            "50%         9.000000  5.804260e+04   2.009850e+04    0.000000e+00   \n",
            "75%        10.000000  2.181951e+05   1.957658e+05    2.231230e+05   \n",
            "max        11.000000  1.000000e+07   3.890000e+07    3.890000e+07   \n",
            "\n",
            "       oldbalanceDest  newbalanceDest        isFraud  \n",
            "count    1.249680e+05    1.249680e+05  124968.000000  \n",
            "mean     9.014215e+05    1.185434e+06       0.000960  \n",
            "std      2.392143e+06    2.749865e+06       0.030973  \n",
            "min      0.000000e+00    0.000000e+00       0.000000  \n",
            "25%      0.000000e+00    0.000000e+00       0.000000  \n",
            "50%      2.895438e+04    7.620559e+04       0.000000  \n",
            "75%      6.448057e+05    1.097964e+06       0.000000  \n",
            "max      3.400000e+07    3.890000e+07       1.000000  \n",
            "Unique Destinations: ['M1979787155' 'M2044282225' 'C553264065' ... 'M1456020208' 'M30442047'\n",
            " nan]\n",
            "Unique Customers: ['C1231006815' 'C1666544295' 'C1305486145' ... 'C647188287' 'C462124864'\n",
            " nan]\n"
          ]
        }
      ],
      "source": [
        "print(data.describe())\n",
        "print(\"Unique Destinations:\", data.nameDest.unique())\n",
        "print(\"Unique Customers:\", data.nameOrig.unique())\n"
      ]
    },
    {
      "cell_type": "code",
      "execution_count": null,
      "metadata": {
        "colab": {
          "base_uri": "https://localhost:8080/",
          "height": 521
        },
        "id": "jh3fKew81gVx",
        "outputId": "2462b687-a933-4c30-8d33-df575d360f32"
      },
      "outputs": [
        {
          "data": {
            "image/png": "[encoded data removed]",
            "text/plain": [
              "<Figure size 576x432 with 1 Axes>"
            ]
          },
          "metadata": {},
          "output_type": "display_data"
        }
      ],
      "source": [
        "plt.figure(figsize=(8, 6))\n",
        "data['type'].value_counts().plot(kind='pie', autopct='%1.1f%%', shadow=True, title='Transaction Types')\n",
        "plt.axis('equal')\n",
        "plt.show()\n"
      ]
    },
    {
      "cell_type": "code",
      "execution_count": null,
      "metadata": {
        "colab": {
          "base_uri": "https://localhost:8080/"
        },
        "id": "sAxk-ahy1hh1",
        "outputId": "40e11767-20ab-421a-9986-4a81743abfd2"
      },
      "outputs": [
        {
          "name": "stdout",
          "output_type": "stream",
          "text": [
            "Fraudulent Transactions: 120\n",
            "Not Fraudulent Transactions: 124848\n"
          ]
        }
      ],
      "source": [
        "print(\"Fraudulent Transactions:\", len(data[data.isFraud == 1]))\n",
        "print(\"Not Fraudulent Transactions:\", len(data[data.isFraud == 0]))"
      ]
    },
    {
      "cell_type": "code",
      "execution_count": null,
      "metadata": {
        "id": "1cXdrcqp1icb"
      },
      "outputs": [],
      "source": [
        "fraud = data[data.isFraud == 1]\n",
        "non_fraud_sample = data[data.isFraud == 0].sample(n=len(fraud))\n",
        "balanced_data = pd.concat([non_fraud_sample, fraud], axis=0)"
      ]
    },
    {
      "cell_type": "code",
      "execution_count": null,
      "metadata": {
        "id": "8YEM5m2m1jz9"
      },
      "outputs": [],
      "source": [
        "encoder_df = pd.get_dummies(balanced_data, columns=['type', 'nameOrig', 'nameDest'])\n"
      ]
    },
    {
      "cell_type": "code",
      "execution_count": null,
      "metadata": {
        "id": "ubgp7HjZ1kwg"
      },
      "outputs": [],
      "source": [
        "X = encoder_df.drop('isFraud', axis=1)\n",
        "Y = encoder_df['isFraud']\n"
      ]
    },
    {
      "cell_type": "code",
      "execution_count": null,
      "metadata": {
        "id": "D7hZKEUb1lv0"
      },
      "outputs": [],
      "source": [
        "X_train, X_test, Y_train, Y_test = train_test_split(X, Y, test_size=0.2, stratify=Y, random_state=2)"
      ]
    },
    {
      "cell_type": "code",
      "execution_count": null,
      "metadata": {
        "id": "EonOw_R61mz3"
      },
      "outputs": [],
      "source": [
        "def train_and_evaluate(model):\n",
        "    model.fit(X_train, Y_train)\n",
        "    preds = model.predict(X_test)\n",
        "    probs = model.predict_proba(X_test)\n",
        "\n",
        "    print('\\nClassification Report:\\n', metrics.classification_report(Y_test, preds))\n",
        "    cm = metrics.confusion_matrix(Y_test, preds)\n",
        "    sns.heatmap(cm, annot=True, fmt='d', cmap='Blues', xticklabels=['Not Fraud', 'Fraud'], yticklabels=['Not Fraud', 'Fraud'])\n",
        "    plt.title('Confusion Matrix')\n",
        "    plt.show()\n",
        "    print('Accuracy:', metrics.accuracy_score(Y_test, preds))\n",
        "    return metrics.roc_auc_score(Y_test, probs[:, 1])\n"
      ]
    },
    {
      "cell_type": "code",
      "execution_count": null,
      "metadata": {
        "colab": {
          "base_uri": "https://localhost:8080/",
          "height": 678
        },
        "id": "j0koKWAi1o2S",
        "outputId": "29c5d02e-3aab-4468-9f1d-7d2834cccab2"
      },
      "outputs": [
        {
          "name": "stdout",
          "output_type": "stream",
          "text": [
            "\n",
            "Classification Report:\n",
            "               precision    recall  f1-score   support\n",
            "\n",
            "         0.0       0.80      0.83      0.82        24\n",
            "         1.0       0.83      0.79      0.81        24\n",
            "\n",
            "    accuracy                           0.81        48\n",
            "   macro avg       0.81      0.81      0.81        48\n",
            "weighted avg       0.81      0.81      0.81        48\n",
            "\n"
          ]
        },
        {
          "data": {
            "image/png": "[encoded data removed]",
            "text/plain": [
              "<Figure size 432x288 with 2 Axes>"
            ]
          },
          "metadata": {
            "needs_background": "light"
          },
          "output_type": "display_data"
        },
        {
          "name": "stdout",
          "output_type": "stream",
          "text": [
            "Accuracy: 0.8125\n",
            "Random Forest AUC: 0.9505208333333334\n"
          ]
        }
      ],
      "source": [
        "rf_model = RandomForestClassifier(random_state=5, n_estimators=20)\n",
        "print(\"Random Forest AUC:\", train_and_evaluate(rf_model))\n"
      ]
    },
    {
      "cell_type": "code",
      "execution_count": null,
      "metadata": {
        "colab": {
          "base_uri": "https://localhost:8080/",
          "height": 678
        },
        "id": "ecUmv9Yy1n2O",
        "outputId": "8b0f14af-93d0-4ee4-a37c-c412b29a5d8d"
      },
      "outputs": [
        {
          "name": "stdout",
          "output_type": "stream",
          "text": [
            "\n",
            "Classification Report:\n",
            "               precision    recall  f1-score   support\n",
            "\n",
            "         0.0       0.86      1.00      0.92        24\n",
            "         1.0       1.00      0.83      0.91        24\n",
            "\n",
            "    accuracy                           0.92        48\n",
            "   macro avg       0.93      0.92      0.92        48\n",
            "weighted avg       0.93      0.92      0.92        48\n",
            "\n"
          ]
        },
        {
          "data": {
            "image/png": "[encoded data removed]",
            "text/plain": [
              "<Figure size 432x288 with 2 Axes>"
            ]
          },
          "metadata": {
            "needs_background": "light"
          },
          "output_type": "display_data"
        },
        {
          "name": "stdout",
          "output_type": "stream",
          "text": [
            "Accuracy: 0.9166666666666666\n",
            "Logistic Regression AUC: 0.984375\n"
          ]
        }
      ],
      "source": [
        "log_reg_model = LogisticRegression(max_iter=1000)\n",
        "print(\"Logistic Regression AUC:\", train_and_evaluate(log_reg_model))\n"
      ]
    },
    {
      "cell_type": "code",
      "execution_count": null,
      "metadata": {
        "id": "X1ouIoVX-fwl"
      },
      "outputs": [],
      "source": [
        "def detect_fraud(transaction):\n",
        "    return rf_model.predict([transaction])[0]"
      ]
    },
    {
      "cell_type": "code",
      "execution_count": null,
      "metadata": {
        "id": "bryxdP3O-fwm",
        "outputId": "ff47835f-b6bf-43f9-d411-be692f6155d6"
      },
      "outputs": [
        {
          "name": "stdout",
          "output_type": "stream",
          "text": [
            "Transaction 1: Fraudulent\n",
            "Transaction 2: Not Fraudulent\n",
            "Transaction 3: Not Fraudulent\n",
            "Transaction 4: Not Fraudulent\n",
            "Transaction 5: Not Fraudulent\n",
            "Transaction 6: Fraudulent\n",
            "Transaction 7: Fraudulent\n",
            "Transaction 8: Fraudulent\n",
            "Transaction 9: Not Fraudulent\n",
            "Transaction 10: Not Fraudulent\n",
            "Transaction 11: Fraudulent\n",
            "Transaction 12: Not Fraudulent\n",
            "Transaction 13: Fraudulent\n",
            "Transaction 14: Fraudulent\n",
            "Transaction 15: Fraudulent\n"
          ]
        }
      ],
      "source": [
        "for i in range(15):\n",
        "    test_transaction = X_test.iloc[i]\n",
        "    result = \"Fraudulent\" if detect_fraud(test_transaction) else \"Not Fraudulent\"\n",
        "    print(f\"Transaction {i+1}: {result}\")"
      ]
    },
    {
      "cell_type": "code",
      "execution_count": null,
      "metadata": {
        "id": "rQ1brXoh-fwm"
      },
      "outputs": [],
      "source": []
    }
  ],
  "metadata": {
    "colab": {
      "provenance": [],
      "include_colab_link": true
    },
    "kernelspec": {
      "display_name": "Python 3 (ipykernel)",
      "language": "python",
      "name": "python3"
    },
    "language_info": {
      "codemirror_mode": {
        "name": "ipython",
        "version": 3
      },
      "file_extension": ".py",
      "mimetype": "text/x-python",
      "name": "python",
      "nbconvert_exporter": "python",
      "pygments_lexer": "ipython3",
      "version": "3.10.11"
    }
  },
  "nbformat": 4,
  "nbformat_minor": 0
}